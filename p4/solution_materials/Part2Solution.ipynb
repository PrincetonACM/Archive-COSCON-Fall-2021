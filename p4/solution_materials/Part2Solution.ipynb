{
  "nbformat": 4,
  "nbformat_minor": 0,
  "metadata": {
    "colab": {
      "name": "Part2Solution.ipynb",
      "provenance": [],
      "collapsed_sections": []
    },
    "kernelspec": {
      "name": "python3",
      "display_name": "Python 3"
    },
    "language_info": {
      "name": "python"
    }
  },
  "cells": [
    {
      "cell_type": "code",
      "metadata": {
        "id": "YbXHbHbRoc2o"
      },
      "source": [
        "# Welcome to Google Colab. The first thing you should do is click Copy To Drive on the bar above.\n",
        "# Then, in the copied filed, click \"Copy of Part2.ipynb\" above.\n",
        "# Rename this to Part2.ipynb."
      ],
      "execution_count": null,
      "outputs": []
    },
    {
      "cell_type": "code",
      "metadata": {
        "id": "PQFpjJ_X5i3s"
      },
      "source": [
        "# To run a cell, click the run button on the left side. Alternatively, you can use Shift + Enter"
      ],
      "execution_count": null,
      "outputs": []
    },
    {
      "cell_type": "code",
      "metadata": {
        "id": "MZ-tEGjDoWQ1",
        "colab": {
          "base_uri": "https://localhost:8080/"
        },
        "outputId": "cf99faad-a15b-4caf-fa0f-56b5543d35d6"
      },
      "source": [
        "# YOU ONLY NEED TO RUN THIS CELL; DO NOT EDIT IT\n",
        "\n",
        "# The next thing you must do is mount your drive using the code below.\n",
        "# You will be told to go to a URL. Then, click your Google Account (use your Princeton Account)\n",
        "# Click Sign In, copy the code presented, and then paste it in the prompt below this cell.\n",
        "from google.colab import drive\n",
        "drive.mount('/content/drive')"
      ],
      "execution_count": null,
      "outputs": [
        {
          "output_type": "stream",
          "name": "stdout",
          "text": [
            "Drive already mounted at /content/drive; to attempt to forcibly remount, call drive.mount(\"/content/drive\", force_remount=True).\n"
          ]
        }
      ]
    },
    {
      "cell_type": "code",
      "metadata": {
        "id": "0ssfc5ELpWKU",
        "colab": {
          "base_uri": "https://localhost:8080/"
        },
        "outputId": "83600e83-cac1-4451-fa11-712b162ac174"
      },
      "source": [
        "# YOU ONLY NEED TO RUN THIS CELL; DO NOT EDIT IT\n",
        "\n",
        "# This is to change your directory to the current path.\n",
        "# If you followed the instructions above, then you should be able to run this cell without errors.\n",
        "# Otherwise, modify the path accordingly.\n",
        "FOLDERNAME = \"Colab Notebooks/\"\n",
        "assert FOLDERNAME is not None, \"[!] Enter the foldername.\"\n",
        "%cd drive/My\\ Drive\n",
        "%cd $FOLDERNAME\n",
        "%ls\n",
        "\n",
        "# At this point, you can read/write to local files in your current Google Drive directory."
      ],
      "execution_count": null,
      "outputs": [
        {
          "output_type": "stream",
          "name": "stdout",
          "text": [
            "[Errno 2] No such file or directory: 'drive/My Drive'\n",
            "/content/drive/My Drive/Colab Notebooks\n",
            "[Errno 2] No such file or directory: 'Colab Notebooks/'\n",
            "/content/drive/My Drive/Colab Notebooks\n",
            "gmm.joblib                  Part1Starter.ipynb      Part2StarterJava.ipynb\n",
            "kmeans.joblib               Part1StarterJava.ipynb  svm_model.joblib\n",
            "Part1ExampleSubmission.txt  Part2Solution.ipynb     YeastPart1.txt\n",
            "Part1Solutions.ipynb        Part2Starter.ipynb      YeastPart2.txt\n"
          ]
        }
      ]
    },
    {
      "cell_type": "code",
      "metadata": {
        "id": "GoEzTiAXwa13"
      },
      "source": [
        "# YOU ONLY NEED TO RUN THIS CELL; DO NOT EDIT IT\n",
        "\n",
        "# This function can be used to write every element in a list to a file (one element per line)\n",
        "# You may find this useful to generate the output text file\n",
        "def writeFile(filename, datalist):\n",
        "  file = open(filename, \"w\")\n",
        "  for d in datalist:\n",
        "    file.write(f\"{d}\\n\")\n",
        "  file.close()\n",
        "\n",
        "# Example\n",
        "# For example, to save the data in guess_list to a text file in your local directory\n",
        "# titled YeastPart2.txt, use the command below.\n",
        "# writeFile(\"YeastPart2.txt\", guess_list)"
      ],
      "execution_count": null,
      "outputs": []
    },
    {
      "cell_type": "code",
      "metadata": {
        "id": "DxSdOzXRqJhz",
        "colab": {
          "base_uri": "https://localhost:8080/"
        },
        "outputId": "046e6995-066f-44f9-cec6-b7d48645e2ab"
      },
      "source": [
        "# YOU ONLY NEED TO RUN THIS CELL; DO NOT EDIT IT\n",
        "\n",
        "from pandas import *\n",
        "import numpy as np\n",
        "from sklearn.cluster import *\n",
        "from sklearn import svm\n",
        "from sklearn.decomposition import PCA\n",
        "from sklearn.mixture import GaussianMixture\n",
        "from itertools import permutations\n",
        "from joblib import dump, load\n",
        "from itertools import permutations\n",
        "\n",
        "#################################################### Important Notice ####################################################\n",
        "# The code below is to download Charlotte's dataset.\n",
        "# However, you do not have access to Charlotte's dataset currently. For now, it simply downloads Sally's dataset from Part 1.\n",
        "# When testing, we will change the 1-GNaLjwqvW2_EOyuedg6qSEmeXWB6MkF below so it points to Charlotte's dataset.\n",
        "#################################################### Important Notice ####################################################\n",
        "\n",
        "!gdown --id 10J_u4Glh6EmGluHCLtfsu4RFJtmEk2Kd\n",
        "df = read_csv(\"YeastTestData.csv\")"
      ],
      "execution_count": null,
      "outputs": [
        {
          "output_type": "stream",
          "name": "stdout",
          "text": [
            "Downloading...\n",
            "From: https://drive.google.com/uc?id=10J_u4Glh6EmGluHCLtfsu4RFJtmEk2Kd\n",
            "To: /content/drive/My Drive/Colab Notebooks/YeastTestData.csv\n",
            "\r  0% 0.00/24.7k [00:00<?, ?B/s]\r100% 24.7k/24.7k [00:00<00:00, 6.92MB/s]\n"
          ]
        }
      ]
    },
    {
      "cell_type": "code",
      "metadata": {
        "id": "IZjU2Ya1gvE3"
      },
      "source": [
        "X = df.to_numpy()"
      ],
      "execution_count": null,
      "outputs": []
    },
    {
      "cell_type": "code",
      "metadata": {
        "id": "EKguXMu5fSfH"
      },
      "source": [
        "# Load in our models\n",
        "# In this case, we have loaded in our K means, Gaussian Mixture Model, and SVM models\n",
        "kmeans = load('kmeans.joblib')\n",
        "gmm = load('gmm.joblib')\n",
        "svm_model = load('svm_model.joblib')"
      ],
      "execution_count": null,
      "outputs": []
    },
    {
      "cell_type": "code",
      "metadata": {
        "id": "1vsoylGYgyo4"
      },
      "source": [
        "# Use our models to predict output of test data\n",
        "y_guesskm = kmeans.predict(X)\n",
        "y_guessgmm = gmm.predict(X)\n",
        "y_guesssvm = svm_model.predict(X)"
      ],
      "execution_count": null,
      "outputs": []
    },
    {
      "cell_type": "code",
      "metadata": {
        "id": "q1_hV5W3i87g"
      },
      "source": [
        "# Write our predicted labels for test data\n",
        "writeFile(\"YeastPart2.txt\", y_guesssvm)"
      ],
      "execution_count": null,
      "outputs": []
    },
    {
      "cell_type": "code",
      "metadata": {
        "id": "MEfB9ffZWCYc"
      },
      "source": [
        "########################################################################################################################\n",
        "# Note: Everything from this point onwards was not possible during the actual contest. From this point onwards, we will\n",
        "# be evaluating how well the model actually did by looking at the actual labels. The actual labels were not provided\n",
        "# during the contest.\n",
        "########################################################################################################################"
      ],
      "execution_count": null,
      "outputs": []
    },
    {
      "cell_type": "code",
      "metadata": {
        "id": "U9M5L1m6gt1y",
        "colab": {
          "base_uri": "https://localhost:8080/"
        },
        "outputId": "8de88d12-cddd-4430-bdc8-e1c58abdc6e0"
      },
      "source": [
        "!gdown --id 1_l82rPXcEUpubYOibjpeD-L7Ue2yobt8\n",
        "true_labels = read_csv(\"YeastTestLabels.csv\")\n",
        "true_labels = true_labels.to_numpy()\n",
        "y = true_labels[:, 1].flatten()"
      ],
      "execution_count": null,
      "outputs": [
        {
          "output_type": "stream",
          "name": "stdout",
          "text": [
            "Downloading...\n",
            "From: https://drive.google.com/uc?id=1_l82rPXcEUpubYOibjpeD-L7Ue2yobt8\n",
            "To: /content/drive/My Drive/Colab Notebooks/YeastTestLabels.csv\n",
            "\r  0% 0.00/1.82k [00:00<?, ?B/s]\r100% 1.82k/1.82k [00:00<00:00, 2.65MB/s]\n"
          ]
        }
      ]
    },
    {
      "cell_type": "code",
      "metadata": {
        "id": "EW-6UwS1hwkE"
      },
      "source": [
        "# This function is used to calculate your accuracy\n",
        "def predict_acc(y_guess, y_truth):\n",
        "  perm_list = list(permutations([0,1,2]))\n",
        "  best_acc = 0\n",
        "  for perm in perm_list:\n",
        "    cur = 0\n",
        "    for i, p in enumerate(perm):\n",
        "      cur += np.sum((y_guess==p) & (y_truth==i))\n",
        "    best_acc = max(best_acc, cur/len(y_truth))\n",
        "  return best_acc"
      ],
      "execution_count": null,
      "outputs": []
    },
    {
      "cell_type": "code",
      "metadata": {
        "colab": {
          "base_uri": "https://localhost:8080/"
        },
        "id": "kAVxJuaUg8-4",
        "outputId": "2fb541ba-c8c7-4a79-b67d-c0316507d6a8"
      },
      "source": [
        "print(f\"K-means Clustering accuracy: {predict_acc(y_guesskm, y)}\")\n",
        "print(f\"Gaussian Mixture Model accuracy: {predict_acc(y_guessgmm, y)}\")\n",
        "print(f\"SVM accuracy: {predict_acc(y_guesssvm, y)}\")"
      ],
      "execution_count": null,
      "outputs": [
        {
          "output_type": "stream",
          "name": "stdout",
          "text": [
            "K-means Clustering accuracy: 0.8363636363636363\n",
            "Gaussian Mixture Model accuracy: 0.9963636363636363\n",
            "SVM accuracy: 1.0\n"
          ]
        }
      ]
    }
  ]
}